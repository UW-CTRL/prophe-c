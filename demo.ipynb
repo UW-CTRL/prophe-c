{
 "cells": [
  {
   "cell_type": "code",
   "execution_count": 6,
   "metadata": {},
   "outputs": [],
   "source": [
    "from world.sim import Sim\n",
    "import pickle\n",
    "import networkx as nx\n",
    "from decision_making.gen_models import query_priors_gen\n",
    "import decision_making.planner as p\n",
    "from decision_making.bayes_models import ObjBayesNet\n",
    "from decision_making.util_classes import AgentState, PlannerParams\n",
    "from decision_making.util_functions import combined, a_star, obs_env_prep\n",
    "import random as rd\n",
    "import threading\n",
    "\n"
   ]
  },
  {
   "cell_type": "markdown",
   "metadata": {},
   "source": [
    "#### Takes the path of a pickle file containing a world and unwraps it for the planner"
   ]
  },
  {
   "cell_type": "code",
   "execution_count": 7,
   "metadata": {},
   "outputs": [],
   "source": [
    "def load_world_for_animation(file_path:str):\n",
    "    \"\"\"\n",
    "    Given a file-path string, loads a grid-world, its underlying scene-graph, and the graph attributes.\n",
    "    \"\"\"\n",
    "    stored_dict = pickle.load(open(file_path, 'rb'))\n",
    "    world = stored_dict[\"grid world\"] # 2D numpy array\n",
    "    sg = nx.Graph(stored_dict[\"scene graph\"]) # Full 3D scene-graph\n",
    "    attr_dict = stored_dict[\"node attrs\"] # node attributes\n",
    "    nx.set_node_attributes(sg, attr_dict) # set node attributes TODO: figure out if we can save SGs with node attributes in pickle file\n",
    "    return world, sg, attr_dict"
   ]
  },
  {
   "cell_type": "markdown",
   "metadata": {},
   "source": [
    "#### Set up the planner and animation-pane"
   ]
  },
  {
   "cell_type": "code",
   "execution_count": 8,
   "metadata": {},
   "outputs": [],
   "source": [
    "def run_animation(sg, world, obj):\n",
    "    \"\"\"\n",
    "    Runs a single animation for a specific environment and target object\n",
    "    \"\"\"\n",
    "    start_point, starting_graph = obs_env_prep(sg, po=True) \n",
    "    # start_point = \"living_room0\"\n",
    "    init_state = AgentState(start_point, sg.nodes[start_point][\"centroid\"])\n",
    "    root = \"house\"\n",
    "    # print([node for node in sg.neighbors(\"laptop0\")])\n",
    "    ML_TEST = {\"cost_scaler\": [0, 1, 0], \"horizon_len\": 1, \"traj_samples\": 500}\n",
    "    LAZY_TEST = {\"cost_scaler\": [0, 0, 1], \"horizon_len\": 5, \"traj_samples\": 500}\n",
    "    MYOPIC = {\"cost_scaler\": [0.001, 100, 1], \"horizon_len\": 1, \"traj_samples\": 500}\n",
    "    MINE = {\"cost_scaler\": [0, 1, 1], \"horizon_len\": 3, \"traj_samples\": 50}\n",
    "    to_test = MINE\n",
    "\n",
    "\n",
    "    # TODO move this somewhere else\n",
    "    # if world is not None:\n",
    "    point = sg.nodes[start_point][\"centroid\"]\n",
    "    neighbors = [(-1, 0), (0, -1), (1, 0), (0, 1)]\n",
    "    while world[point] != 0: # check if floor\n",
    "        adj = rd.choice(neighbors)\n",
    "        next = (point[0] + adj[0], point[1] + adj[1])\n",
    "        if world[next] == 1: # check if wall; if so, don't even bother\n",
    "            continue\n",
    "        point = next\n",
    "\n",
    "    init_state = AgentState(start_point, point)\n",
    "    print(\"Starting point: \" + str(point))\n",
    "\n",
    "    params = PlannerParams(init_state, starting_graph, obj, root, to_test[\"cost_scaler\"], to_test[\"horizon_len\"], 500, combined, {0, 1})\n",
    "    bn = ObjBayesNet\n",
    "    print(f\"Starting in {start_point}, finding {obj}\")\n",
    "\n",
    "    sim_obs = Sim(sg, world)\n",
    "    plan = p.Planner(params, query_priors_gen, bn, lambda obs:True if obs == 1 else False, \n",
    "                        external_controller=sim_obs.decision_outcome, distance_func=a_star, world=world, animation=sim_obs,\n",
    "                        greedy_policy=False)\n",
    "\n",
    "    # Start the planning thread\n",
    "    continue_planning = threading.Event()\n",
    "\n",
    "    path_thread = threading.Thread(target=plan.planner, args=(continue_planning, ))\n",
    "    path_thread.start()\n",
    "\n",
    "    animation_thread = threading.Thread(target=sim_obs.animate_agent, args=(init_state.position, continue_planning))\n",
    "    animation_thread.start()"
   ]
  },
  {
   "cell_type": "code",
   "execution_count": 9,
   "metadata": {},
   "outputs": [],
   "source": [
    "def animate(object, demo):\n",
    "    world, sg, _ = load_world_for_animation(f'world/demo_houses/{demo}.pickle')\n",
    "    run_animation(sg, world, object)"
   ]
  },
  {
   "cell_type": "markdown",
   "metadata": {},
   "source": [
    "#### Run the animation! The agent's actions are printed parallel to the simulation"
   ]
  },
  {
   "cell_type": "code",
   "execution_count": 10,
   "metadata": {},
   "outputs": [
    {
     "name": "stdout",
     "output_type": "stream",
     "text": [
      "Starting point: (8, 14)\n",
      "Starting in living_room0, finding laptop\n"
     ]
    },
    {
     "name": "stdout",
     "output_type": "stream",
     "text": [
      "(8, 14)\n",
      "\n",
      "hi:  {'couch0': 0.23546890264434073, 'tv_set0': 0.1282698335851483, 'bookshelf0': 0.15080953547103013, 'chair0': 0.11424128573751913, 'utility_closet0': 0.12141491255423725, 'bedroom0': 0.24979553000772445}\n",
      "\n",
      "I chose the couch0\n",
      "Planning path...\n",
      "\n",
      "hi:  {'tv_set0': 0.16777582236851415, 'bookshelf0': 0.1972575556346188, 'chair0': 0.1494266042711068, 'utility_closet0': 0.1588096455123723, 'bedroom0': 0.32673037221338785}\n",
      "\n",
      "I chose the bookshelf0\n",
      "Planning path...\n",
      "\n",
      "hi:  {'tv_set0': 0.20900330304715803, 'chair0': 0.18614513947775368, 'utility_closet0': 0.19783387140805966, 'bedroom0': 0.40701768606702854}\n",
      "\n",
      "I chose the tv_set0\n",
      "Planning path...\n",
      "\n",
      "hi:  {'chair0': 0.2353298568689869, 'utility_closet0': 0.25010707651520603, 'bedroom0': 0.5145630666158071}\n",
      "\n",
      "I chose the bedroom0\n",
      "Planning path...\n",
      "\n",
      "hi:  {'chair0': 0.07130864084395623, 'bed0': 0.15529272035490052, 'desk0': 0.5441199800925652, 'nightstand0': 0.0636772436847392, 'utility_closet0': 0.07578637036984098, 'basement0': 0.08981504465399769}\n",
      "\n",
      "I chose the desk0\n",
      "Planning path...\n",
      "\n",
      "hi:  {'chair0': 0.15641975460656357, 'bed0': 0.34064383954890665, 'nightstand0': 0.139679830008055, 'utility_closet0': 0.16624192125206372, 'basement0': 0.19701465458441111}\n",
      "\n",
      "I chose the bed0\n",
      "Planning path...\n",
      "\n",
      "hi:  {'chair0': 0.23723105051380758, 'nightstand0': 0.21184276175184916, 'utility_closet0': 0.2521276530400969, 'basement0': 0.29879853469424633}\n",
      "\n",
      "I chose the nightstand0\n",
      "Planning path...\n",
      "I found the laptop in nightstand0!\n"
     ]
    }
   ],
   "source": [
    "animate(object=\"laptop\", demo=\"demo1\")"
   ]
  },
  {
   "cell_type": "code",
   "execution_count": null,
   "metadata": {},
   "outputs": [],
   "source": []
  }
 ],
 "metadata": {
  "kernelspec": {
   "display_name": "env",
   "language": "python",
   "name": "python3"
  },
  "language_info": {
   "codemirror_mode": {
    "name": "ipython",
    "version": 3
   },
   "file_extension": ".py",
   "mimetype": "text/x-python",
   "name": "python",
   "nbconvert_exporter": "python",
   "pygments_lexer": "ipython3",
   "version": "3.11.4"
  }
 },
 "nbformat": 4,
 "nbformat_minor": 2
}
